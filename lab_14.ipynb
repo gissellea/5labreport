{
  "nbformat": 4,
  "nbformat_minor": 0,
  "metadata": {
    "colab": {
      "provenance": [],
      "authorship_tag": "ABX9TyPjo2ajmMMmCL3SWF/8oxCz",
      "include_colab_link": true
    },
    "kernelspec": {
      "name": "python3",
      "display_name": "Python 3"
    },
    "language_info": {
      "name": "python"
    }
  },
  "cells": [
    {
      "cell_type": "markdown",
      "metadata": {
        "id": "view-in-github",
        "colab_type": "text"
      },
      "source": [
        "<a href=\"https://colab.research.google.com/github/gissellea/5labreport/blob/main/lab_14.ipynb\" target=\"_parent\"><img src=\"https://colab.research.google.com/assets/colab-badge.svg\" alt=\"Open In Colab\"/></a>"
      ]
    },
    {
      "cell_type": "markdown",
      "source": [
        "Purpose:\n",
        "The purpose of lab 14 was to know the movement of air coming in and out of the lungs. Like\n",
        "how the lungs ven?late and how it can be measured through a spirometer."
      ],
      "metadata": {
        "id": "-eEZtw42R3Fv"
      }
    },
    {
      "cell_type": "markdown",
      "source": [
        "Procedure:\n",
        "• For this lab you will need a baseline lung capacity spirometer\n",
        "• Insert the clear plastic mouthpiece on the windmill.\n",
        "type spirometer and make sure the measurement indicator is at the zero position before beginning.\n",
        "• Make sure you only exhale into the spirometer, but DO NOT INHALE from it.\n",
        "• After exhaling record the measurement from the spirometer."
      ],
      "metadata": {
        "id": "Wi_ARHjeSJts"
      }
    },
    {
      "cell_type": "markdown",
      "source": [
        "Results:\n",
        "Results are shown below in the graph"
      ],
      "metadata": {
        "id": "tCu8uVNBSRJV"
      }
    },
    {
      "cell_type": "code",
      "source": [
        "# import packages\n",
        "import statistics\n",
        "import pandas as pd\n",
        "import scipy.stats as stats\n",
        "from scipy.stats import sem\n",
        "from statistics import mean, stdev\n",
        "import matplotlib.pyplot as plt\n",
        "import numpy as np\n",
        "#include if using a jupyter notebook, remove if using a .py file\n",
        "%matplotlib inline"
      ],
      "metadata": {
        "id": "Hk2nIG-lLbyr"
      },
      "execution_count": null,
      "outputs": []
    },
    {
      "cell_type": "code",
      "source": [
        "f_vc =[2.7,3.7,3.2,3.45,3.2,3.1]\n",
        "m_vc =[3.3,4.5,3.7]"
      ],
      "metadata": {
        "id": "cD5gl1pELoj3"
      },
      "execution_count": null,
      "outputs": []
    },
    {
      "cell_type": "code",
      "source": [
        "fvc_mean = mean(f_vc)\n",
        "mvc_mean = mean (m_vc)\n",
        "fvc_mean, mvc_mean"
      ],
      "metadata": {
        "colab": {
          "base_uri": "https://localhost:8080/"
        },
        "id": "UqqLcDFxMp9D",
        "outputId": "38f7f589-775e-4c60-876b-f2e9c0694c58"
      },
      "execution_count": null,
      "outputs": [
        {
          "output_type": "execute_result",
          "data": {
            "text/plain": [
              "(3.225, 3.8333333333333335)"
            ]
          },
          "metadata": {},
          "execution_count": 5
        }
      ]
    },
    {
      "cell_type": "code",
      "source": [
        "#caculate the SEM of data\n",
        "fvc_sem = sem(f_vc)\n",
        "mvc_sem = sem(m_vc)\n",
        "#display the SEM\n",
        "fvc_sem, mvc_sem"
      ],
      "metadata": {
        "colab": {
          "base_uri": "https://localhost:8080/"
        },
        "id": "oaBgCUwUOSOm",
        "outputId": "b8bd22b5-fee5-474b-fb2e-c96b69d894cd"
      },
      "execution_count": null,
      "outputs": [
        {
          "output_type": "execute_result",
          "data": {
            "text/plain": [
              "(0.13768926368215256, 0.3527668414752788)"
            ]
          },
          "metadata": {},
          "execution_count": 6
        }
      ]
    },
    {
      "cell_type": "code",
      "source": [
        "# build a bar plot\n",
        "plt.xlabel('Biological Sex')\n",
        "plt.ylabel('Vital Capacity (L)')\n",
        "plt.title('Vital Capacity Differences in Male vs Female')\n",
        "plt.bar(['Female VC','Male VC'],[fvc_mean,mvc_mean], yerr=[fvc_sem, mvc_sem],capsize=10)"
      ],
      "metadata": {
        "colab": {
          "base_uri": "https://localhost:8080/",
          "height": 490
        },
        "id": "YinNK22TQGAX",
        "outputId": "21af5fd1-e2a4-455c-da9e-976b7eeb264f"
      },
      "execution_count": null,
      "outputs": [
        {
          "output_type": "execute_result",
          "data": {
            "text/plain": [
              "<BarContainer object of 2 artists>"
            ]
          },
          "metadata": {},
          "execution_count": 15
        },
        {
          "output_type": "display_data",
          "data": {
            "text/plain": [
              "<Figure size 640x480 with 1 Axes>"
            ],
            "image/png": "[encoded data removed]"
          },
          "metadata": {}
        }
      ]
    },
    {
      "cell_type": "code",
      "source": [
        "# import packages\n",
        "import statistics\n",
        "import pandas as pd\n",
        "import scipy.stats as stats\n",
        "from scipy.stats import sem\n",
        "from statistics import mean, stdev\n",
        "import matplotlib.pyplot as plt\n",
        "import numpy as np\n",
        "#include if using a jupyter notebook, remove if using a .py file\n",
        "%matplotlib inline"
      ],
      "metadata": {
        "id": "N0jWlah1Yx8F"
      },
      "execution_count": null,
      "outputs": []
    },
    {
      "cell_type": "code",
      "source": [
        "f_fev =[2.37,3.37,2.6,2.69,3.13,2.44]\n",
        "m_fev =[3.3,4.86,3.7]"
      ],
      "metadata": {
        "id": "F6XT3Gz-ZAHv"
      },
      "execution_count": null,
      "outputs": []
    },
    {
      "cell_type": "code",
      "source": [
        "ffev_mean = mean(f_fev)\n",
        "mfev_mean = mean (m_fev)\n",
        "ffev_mean, mvc_mean"
      ],
      "metadata": {
        "colab": {
          "base_uri": "https://localhost:8080/"
        },
        "id": "wl_G-6mFZiWy",
        "outputId": "786efbcf-ab9a-4410-94d9-c4be15937204"
      },
      "execution_count": null,
      "outputs": [
        {
          "output_type": "execute_result",
          "data": {
            "text/plain": [
              "(2.7666666666666666, 3.8333333333333335)"
            ]
          },
          "metadata": {},
          "execution_count": 18
        }
      ]
    },
    {
      "cell_type": "code",
      "source": [
        "#caculate the SEM of data\n",
        "ffev_sem = sem(f_fev)\n",
        "mfev_sem = sem(m_fev)\n",
        "#display the SEM\n",
        "ffev_sem, mfev_sem"
      ],
      "metadata": {
        "colab": {
          "base_uri": "https://localhost:8080/"
        },
        "id": "jiVecPCtZv-E",
        "outputId": "b84b7808-7ffb-449b-83a5-1b496c6894ad"
      },
      "execution_count": null,
      "outputs": [
        {
          "output_type": "execute_result",
          "data": {
            "text/plain": [
              "(0.16265846973882972, 0.4678081278093024)"
            ]
          },
          "metadata": {},
          "execution_count": 19
        }
      ]
    },
    {
      "cell_type": "code",
      "source": [
        "# build a bar plot\n",
        "plt.xlabel('Biological Sex')\n",
        "plt.ylabel('Forced Expiratory Volume(S)')\n",
        "plt.title(' Forced Exiratory volume in 1 second in Male vs Female')\n",
        "plt.bar(['Female FEV','Male FEV'],[ffev_mean,mfev_mean], yerr=[ffev_sem, mfev_sem],capsize=10)"
      ],
      "metadata": {
        "colab": {
          "base_uri": "https://localhost:8080/",
          "height": 490
        },
        "id": "kOYB4glXZ9xT",
        "outputId": "36300483-3d41-48fa-b240-7f705351cd2b"
      },
      "execution_count": 21,
      "outputs": [
        {
          "output_type": "execute_result",
          "data": {
            "text/plain": [
              "<BarContainer object of 2 artists>"
            ]
          },
          "metadata": {},
          "execution_count": 21
        },
        {
          "output_type": "display_data",
          "data": {
            "text/plain": [
              "<Figure size 640x480 with 1 Axes>"
            ],
            "image/png": "[encoded data removed]"
          },
          "metadata": {}
        }
      ]
    },
    {
      "cell_type": "markdown",
      "source": [
        "Discussion:\n",
        "In discussion I had hypothesis that the sex will make a difference on the rate of airway flow also\n",
        "the different types of spirometers."
      ],
      "metadata": {
        "id": "GxRAC_WuVQp3"
      }
    },
    {
      "cell_type": "markdown",
      "source": [
        "Conclusion:\n",
        "In conclusion from the classes results male had a higher vc and fev. Females range between 2.0 – 3.6 which is considered normal. The males average should be around 4.0 range or higher but some did score less at 3.2."
      ],
      "metadata": {
        "id": "Sr62Cdd_VV2O"
      }
    }
  ]
}